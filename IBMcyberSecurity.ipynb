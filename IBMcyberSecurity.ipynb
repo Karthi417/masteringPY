{
  "nbformat": 4,
  "nbformat_minor": 0,
  "metadata": {
    "colab": {
      "provenance": [],
      "authorship_tag": "ABX9TyOZqvEEGdUVIaGQc/8oZ24h",
      "include_colab_link": true
    },
    "kernelspec": {
      "name": "python3",
      "display_name": "Python 3"
    },
    "language_info": {
      "name": "python"
    }
  },
  "cells": [
    {
      "cell_type": "markdown",
      "metadata": {
        "id": "view-in-github",
        "colab_type": "text"
      },
      "source": [
        "<a href=\"https://colab.research.google.com/github/Karthi417/masteringPY/blob/main/IBMcyberSecurity.ipynb\" target=\"_parent\"><img src=\"https://colab.research.google.com/assets/colab-badge.svg\" alt=\"Open In Colab\"/></a>"
      ]
    },
    {
      "cell_type": "code",
      "execution_count": 3,
      "metadata": {
        "colab": {
          "base_uri": "https://localhost:8080/"
        },
        "id": "3LfabX6RphFM",
        "outputId": "4aa677d6-219a-4be8-d842-23ca5e792d41"
      },
      "outputs": [
        {
          "output_type": "stream",
          "name": "stdout",
          "text": [
            "Enter secret message: hello\n",
            "Enter password: 1234\n",
            "Enter password for Decryption: 1234\n",
            "Decrypted message: hello\n"
          ]
        }
      ],
      "source": [
        "import cv2\n",
        "import os\n",
        "import string\n",
        "import random\n",
        "\n",
        "def generate_substitution_key():\n",
        "    alphabet = list(string.ascii_lowercase + string.ascii_uppercase + string.digits + string.punctuation + string.whitespace)\n",
        "    shuffled_alphabet = random.sample(alphabet, len(alphabet))\n",
        "    substitution_key = dict(zip(alphabet, shuffled_alphabet))\n",
        "    return substitution_key\n",
        "\n",
        "def encrypt_message(message, substitution_key):\n",
        "    encrypted_message = ''.join(substitution_key.get(char, char) for char in message)\n",
        "    return encrypted_message\n",
        "\n",
        "def decrypt_message(encrypted_message, substitution_key):\n",
        "    reverse_key = {v: k for k, v in substitution_key.items()}\n",
        "    decrypted_message = ''.join(reverse_key.get(char, char) for char in encrypted_message)\n",
        "    return decrypted_message\n",
        "\n",
        "# Load the image\n",
        "img = cv2.imread(\"/content/stegno.jpg\")\n",
        "\n",
        "# Get the secret message and password from the user\n",
        "msg = input(\"Enter secret message: \")\n",
        "password = input(\"Enter password: \")\n",
        "\n",
        "# Generate a substitution key based on the password\n",
        "random.seed(password)\n",
        "substitution_key = generate_substitution_key()\n",
        "\n",
        "# Encryption\n",
        "encrypted_msg = encrypt_message(msg, substitution_key)\n",
        "\n",
        "# Initialize variables for embedding\n",
        "n = 0\n",
        "m = 0\n",
        "z = 0\n",
        "\n",
        "# Embed the encrypted message into the image\n",
        "for i in range(len(encrypted_msg)):\n",
        "    img[n, m, z] = ord(encrypted_msg[i])\n",
        "    n = n + 1\n",
        "    m = m + 1\n",
        "    z = (z + 1) % 3\n",
        "\n",
        "# Save the encrypted image in the Downloads folder\n",
        "encrypted_img_path = os.path.join(os.path.expanduser(\"~\"), \"Downloads\", \"Encryptedmsg.jpg\")\n",
        "cv2.imwrite(encrypted_img_path, img)\n",
        "os.system(\"start \" + encrypted_img_path)\n",
        "\n",
        "# Decryption\n",
        "decryption_password = input(\"Enter password for Decryption: \")\n",
        "\n",
        "if password == decryption_password:\n",
        "    decrypted_msg = decrypt_message(encrypted_msg, substitution_key)\n",
        "    print(\"Decrypted message:\", decrypted_msg)\n",
        "else:\n",
        "    print(\"Invalid password for decryption.\")\n"
      ]
    }
  ]
}